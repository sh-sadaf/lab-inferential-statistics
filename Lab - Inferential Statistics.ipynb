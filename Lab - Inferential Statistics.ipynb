{
 "cells": [
  {
   "cell_type": "code",
   "execution_count": 1,
   "id": "2839833a",
   "metadata": {},
   "outputs": [],
   "source": [
    "import math as m\n",
    "import scipy.stats as stats"
   ]
  },
  {
   "cell_type": "code",
   "execution_count": 2,
   "id": "c8472d0f",
   "metadata": {},
   "outputs": [],
   "source": [
    "    mean_regular = 120\n",
    "    n = 100\n",
    "    mean_sample = 130.1\n",
    "    std = 21.21 \n"
   ]
  },
  {
   "cell_type": "markdown",
   "id": "8bbcab31",
   "metadata": {},
   "source": [
    "### Hypothesis Testing "
   ]
  },
  {
   "cell_type": "markdown",
   "id": "bbea4ba8",
   "metadata": {},
   "source": [
    "    H0: Mean systolic bp of sample is statistically same as mean of regular population.\n",
    "    H1: Mean systolic bp of sample is not statistically same as regular population mean."
   ]
  },
  {
   "cell_type": "markdown",
   "id": "be30bdf6",
   "metadata": {},
   "source": [
    "z = sample mean - population mean/ std/sqrt of sample size"
   ]
  },
  {
   "cell_type": "code",
   "execution_count": 3,
   "id": "d8cff5a9",
   "metadata": {},
   "outputs": [
    {
     "data": {
      "text/plain": [
       "4.761904761904759"
      ]
     },
     "execution_count": 3,
     "metadata": {},
     "output_type": "execute_result"
    }
   ],
   "source": [
    "tt = (mean_sample - mean_regular)/(std/m.sqrt(n))\n",
    "tt"
   ]
  },
  {
   "cell_type": "markdown",
   "id": "143d693a",
   "metadata": {},
   "source": [
    "It means that sample mean is nearly 5 standard deviations above the regular mean."
   ]
  },
  {
   "cell_type": "markdown",
   "id": "a2f1bdc0",
   "metadata": {},
   "source": [
    "## P-Value "
   ]
  },
  {
   "cell_type": "markdown",
   "id": "560c9f54",
   "metadata": {},
   "source": [
    "After computing the test statistic, the next step is to find out probability of obtaining this score when null hypothesis is true"
   ]
  },
  {
   "cell_type": "code",
   "execution_count": 7,
   "id": "8924b465",
   "metadata": {},
   "outputs": [],
   "source": [
    "pval = stats.t.sf(abs(tt), n-1)*2 "
   ]
  },
  {
   "cell_type": "code",
   "execution_count": 8,
   "id": "77a4a789",
   "metadata": {},
   "outputs": [],
   "source": [
    "# defining function for t-value and p-value.\n",
    "def t_test(sample, mu):\n",
    "    tt = (mean_sample - mean_regular)/(std/m.sqrt(n))\n",
    "    pval = stats.t.sf(abs(tt), n-1)*2 # two sided t-distribution \n",
    "    return (tt, pval)"
   ]
  },
  {
   "cell_type": "code",
   "execution_count": 9,
   "id": "bfc98b42",
   "metadata": {},
   "outputs": [
    {
     "data": {
      "text/plain": [
       "(4.761904761904759, 6.562701817208617e-06)"
      ]
     },
     "execution_count": 9,
     "metadata": {},
     "output_type": "execute_result"
    }
   ],
   "source": [
    "t_test(n, 130.1)"
   ]
  },
  {
   "cell_type": "code",
   "execution_count": 10,
   "id": "90cb9737",
   "metadata": {},
   "outputs": [
    {
     "name": "stdout",
     "output_type": "stream",
     "text": [
      "We reject null hypothesis\n"
     ]
    }
   ],
   "source": [
    "# validating hypothesis at confidence level of 95%.\n",
    "alpha = 0.05 \n",
    "if pval<alpha:\n",
    "    print(\"We reject null hypothesis\")\n",
    "elif pval> alpha:\n",
    "    print(\"we accept null hypothesis\")"
   ]
  },
  {
   "cell_type": "markdown",
   "id": "f21427ee",
   "metadata": {},
   "source": [
    "Hence it can be concluded that mean systolic bp of sample is statistically significantly different than mean systolic bp of regular population"
   ]
  },
  {
   "cell_type": "code",
   "execution_count": null,
   "id": "ce564290",
   "metadata": {},
   "outputs": [],
   "source": []
  }
 ],
 "metadata": {
  "kernelspec": {
   "display_name": "Python 3 (ipykernel)",
   "language": "python",
   "name": "python3"
  },
  "language_info": {
   "codemirror_mode": {
    "name": "ipython",
    "version": 3
   },
   "file_extension": ".py",
   "mimetype": "text/x-python",
   "name": "python",
   "nbconvert_exporter": "python",
   "pygments_lexer": "ipython3",
   "version": "3.9.12"
  }
 },
 "nbformat": 4,
 "nbformat_minor": 5
}
